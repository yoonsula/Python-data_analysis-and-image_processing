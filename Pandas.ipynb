{
 "cells": [
  {
   "cell_type": "code",
   "execution_count": 1,
   "metadata": {},
   "outputs": [],
   "source": [
    "import pandas as pd\n",
    "import numpy as np"
   ]
  },
  {
   "cell_type": "code",
   "execution_count": 2,
   "metadata": {},
   "outputs": [
    {
     "name": "stdout",
     "output_type": "stream",
     "text": [
      "a     사과\n",
      "b    바나나\n",
      "c     당근\n",
      "dtype: object\n",
      "사과\n"
     ]
    }
   ],
   "source": [
    "array = pd.Series(['사과','바나나','당근'], index=['a','b','c'])\n",
    "print(array)\n",
    "print(array['a'])"
   ]
  },
  {
   "cell_type": "code",
   "execution_count": 5,
   "metadata": {},
   "outputs": [
    {
     "name": "stdout",
     "output_type": "stream",
     "text": [
      "사과\n"
     ]
    }
   ],
   "source": [
    "data = {\n",
    "    'a':'사과',\n",
    "    'b':'바나나',\n",
    "    'c':'당근'\n",
    "}\n",
    "#Dict 자료형을 Series로 비꾸기\n",
    "array = pd.Series(data)\n",
    "print(array['a'])"
   ]
  },
  {
   "cell_type": "code",
   "execution_count": 7,
   "metadata": {},
   "outputs": [
    {
     "name": "stdout",
     "output_type": "stream",
     "text": [
      "       word  frequency\n",
      "Apple    사과          3\n",
      "Banana  바나나          5\n",
      "Carrot   당근          7\n"
     ]
    }
   ],
   "source": [
    "word_dict = {\n",
    "    'Apple':'사과',\n",
    "    'Banana':'바나나',\n",
    "    'Carrot':'당근'\n",
    "}\n",
    "\n",
    "frequency_dict = {\n",
    "    'Apple': 3,\n",
    "    'Banana': 5,\n",
    "    'Carrot': 7\n",
    "}\n",
    "\n",
    "word = pd.Series(word_dict)\n",
    "frequency = pd.Series(frequency_dict)\n",
    "\n",
    "#이름(Name): 값(Values)\n",
    "summary = pd.DataFrame({\n",
    "    'word':word,\n",
    "    'frequency':frequency \n",
    "})\n",
    "\n",
    "print(summary)"
   ]
  },
  {
   "cell_type": "markdown",
   "metadata": {},
   "source": [
    "시리즈의 연산"
   ]
  },
  {
   "cell_type": "code",
   "execution_count": 32,
   "metadata": {},
   "outputs": [
    {
     "name": "stdout",
     "output_type": "stream",
     "text": [
      "      price  number  final_price\n",
      "사과      300       5          900\n",
      "바나나     400       2          800\n",
      "당근      350       3         1050\n",
      "블루베리    300       4         1200\n"
     ]
    }
   ],
   "source": [
    "price_dict = {\n",
    "    '사과':300,\n",
    "    '바나나':400,\n",
    "    '당근':350\n",
    "}\n",
    "number_dict = {\n",
    "    '사과':3,\n",
    "    '바나나':2,\n",
    "    '당근':3\n",
    "}\n",
    "\n",
    "price = pd.Series(price_dict)\n",
    "number = pd.Series(number_dict)\n",
    "final = price * number\n",
    "\n",
    "final_price = pd.DataFrame({\n",
    "    'price': price,\n",
    "    'number': number,\n",
    "    'final_price':final\n",
    "    \n",
    "})\n",
    "print(final_price)\n",
    "\n",
    "#이름을 기준으로 슬라이싱\n",
    "print(final_price.loc['바나나':'당근','final_price':])\n",
    "#인덱스를 기준으로 슬라이싱\n",
    "print(final_price.iloc[1:3,2:])\n",
    "\n",
    "final_price.loc['사과','number'] = 5   #데이터 변경\n",
    "final_price.loc['블루베리'] = [300,4,300*4]   #새 데이터 삽입\n",
    "\n",
    "print(final_price)\n",
    "\n",
    "final_price.to_csv('fruit_price.csv',encoding='utf-8-sig')\n",
    "saved = pd.read_csv('fruit_price.csv',index_col=0)\n",
    "print(saved)"
   ]
  },
  {
   "cell_type": "code",
   "execution_count": null,
   "metadata": {},
   "outputs": [],
   "source": []
  }
 ],
 "metadata": {
  "kernelspec": {
   "display_name": "Python 3",
   "language": "python",
   "name": "python3"
  },
  "language_info": {
   "codemirror_mode": {
    "name": "ipython",
    "version": 3
   },
   "file_extension": ".py",
   "mimetype": "text/x-python",
   "name": "python",
   "nbconvert_exporter": "python",
   "pygments_lexer": "ipython3",
   "version": "3.8.5"
  }
 },
 "nbformat": 4,
 "nbformat_minor": 4
}
