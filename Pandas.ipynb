{
 "cells": [
  {
   "cell_type": "code",
   "execution_count": 1,
   "metadata": {},
   "outputs": [],
   "source": [
    "import pandas as pd\n",
    "import numpy as np"
   ]
  },
  {
   "cell_type": "code",
   "execution_count": 2,
   "metadata": {},
   "outputs": [
    {
     "name": "stdout",
     "output_type": "stream",
     "text": [
      "a     사과\n",
      "b    바나나\n",
      "c     당근\n",
      "dtype: object\n",
      "사과\n"
     ]
    }
   ],
   "source": [
    "array = pd.Series(['사과','바나나','당근'], index=['a','b','c'])\n",
    "print(array)\n",
    "print(array['a'])"
   ]
  },
  {
   "cell_type": "code",
   "execution_count": 3,
   "metadata": {},
   "outputs": [
    {
     "name": "stdout",
     "output_type": "stream",
     "text": [
      "사과\n"
     ]
    }
   ],
   "source": [
    "data = {\n",
    "    'a':'사과',\n",
    "    'b':'바나나',\n",
    "    'c':'당근'\n",
    "}\n",
    "#Dict 자료형을 Series로 비꾸기\n",
    "array = pd.Series(data)\n",
    "print(array['a'])"
   ]
  },
  {
   "cell_type": "code",
   "execution_count": 4,
   "metadata": {},
   "outputs": [
    {
     "name": "stdout",
     "output_type": "stream",
     "text": [
      "       word  frequency\n",
      "Apple    사과          3\n",
      "Banana  바나나          5\n",
      "Carrot   당근          7\n"
     ]
    }
   ],
   "source": [
    "word_dict = {\n",
    "    'Apple':'사과',\n",
    "    'Banana':'바나나',\n",
    "    'Carrot':'당근'\n",
    "}\n",
    "\n",
    "frequency_dict = {\n",
    "    'Apple': 3,\n",
    "    'Banana': 5,\n",
    "    'Carrot': 7\n",
    "}\n",
    "\n",
    "word = pd.Series(word_dict)\n",
    "frequency = pd.Series(frequency_dict)\n",
    "\n",
    "#이름(Name): 값(Values)\n",
    "summary = pd.DataFrame({\n",
    "    'word':word,\n",
    "    'frequency':frequency \n",
    "})\n",
    "\n",
    "print(summary)"
   ]
  },
  {
   "cell_type": "markdown",
   "metadata": {},
   "source": [
    "시리즈의 연산"
   ]
  },
  {
   "cell_type": "code",
   "execution_count": 5,
   "metadata": {},
   "outputs": [
    {
     "name": "stdout",
     "output_type": "stream",
     "text": [
      "     price  number  final_price\n",
      "사과     300       3          900\n",
      "바나나    400       2          800\n",
      "당근     350       3         1050\n",
      "     final_price\n",
      "바나나          800\n",
      "당근          1050\n",
      "     final_price\n",
      "바나나          800\n",
      "당근          1050\n",
      "      price  number  final_price\n",
      "사과      300       5          900\n",
      "바나나     400       2          800\n",
      "당근      350       3         1050\n",
      "블루베리    300       4         1200\n",
      "      price  number  final_price\n",
      "사과      300       5          900\n",
      "바나나     400       2          800\n",
      "당근      350       3         1050\n",
      "블루베리    300       4         1200\n"
     ]
    }
   ],
   "source": [
    "price_dict = {\n",
    "    '사과':300,\n",
    "    '바나나':400,\n",
    "    '당근':350\n",
    "}\n",
    "number_dict = {\n",
    "    '사과':3,\n",
    "    '바나나':2,\n",
    "    '당근':3\n",
    "}\n",
    "\n",
    "price = pd.Series(price_dict)\n",
    "number = pd.Series(number_dict)\n",
    "final = price * number\n",
    "\n",
    "final_price = pd.DataFrame({\n",
    "    'price': price,\n",
    "    'number': number,\n",
    "    'final_price':final\n",
    "    \n",
    "})\n",
    "print(final_price)\n",
    "\n",
    "#이름을 기준으로 슬라이싱\n",
    "print(final_price.loc['바나나':'당근','final_price':])\n",
    "#인덱스를 기준으로 슬라이싱\n",
    "print(final_price.iloc[1:3,2:])\n",
    "\n",
    "final_price.loc['사과','number'] = 5   #데이터 변경\\\n",
    "final_price.loc['블루베리'] = [300,4,300*4]   #새 데이터 삽입\n",
    "\n",
    "print(final_price)\n",
    "\n",
    "final_price.to_csv('fruit_price.csv',encoding='utf-8-sig')\n",
    "saved = pd.read_csv('fruit_price.csv',index_col=0)\n",
    "print(saved)"
   ]
  },
  {
   "cell_type": "markdown",
   "metadata": {},
   "source": [
    "데이터 프레임의 Null 여부 확인"
   ]
  },
  {
   "cell_type": "code",
   "execution_count": 6,
   "metadata": {},
   "outputs": [
    {
     "name": "stdout",
     "output_type": "stream",
     "text": [
      "       word  frequency  importance\n",
      "Apple    사과        3.0           3\n",
      "Banana  바나나        5.0           2\n",
      "Carrot   당근        NaN           1\n",
      "Durian  두리안        2.0           1\n",
      "       word  frequency  importance\n",
      "Banana  바나나        5.0           2\n",
      "Apple    사과        3.0           3\n",
      "Durian  두리안        2.0           1\n",
      "Carrot   당근        NaN           1\n"
     ]
    }
   ],
   "source": [
    "word_dict = {\n",
    "    'Apple':'사과',\n",
    "    'Banana':'바나나',\n",
    "    'Carrot':'당근',\n",
    "    'Durian':'두리안'\n",
    "}\n",
    "\n",
    "frequency_dict = {\n",
    "    'Apple':3,\n",
    "    'Banana':5,\n",
    "    'Carrot':np.nan,\n",
    "    'Durian':2\n",
    "}\n",
    "\n",
    "importance_dict = {\n",
    "    'Apple':3,\n",
    "    'Banana':2,\n",
    "    'Carrot':1,\n",
    "    'Durian':1\n",
    "}\n",
    "\n",
    "word = pd.Series(word_dict)\n",
    "frequency = pd.Series(frequency_dict)\n",
    "importance = pd.Series(importance_dict)\n",
    "\n",
    "summary = pd.DataFrame({\n",
    "    'word':word,\n",
    "    'frequency':frequency,\n",
    "    'importance':importance\n",
    "})\n",
    "\n",
    "print(summary)\n",
    "# print(summary.notnull())\n",
    "# print(summary.isnull())\n",
    "# summary['frequency'] = summary['frequency'].fillna('데이터없음')\n",
    "# print(summary)\n",
    "\n",
    "#데이터 프레임 정렬 함수 \n",
    "summary = summary.sort_values('frequency', ascending=False)\n",
    "#ascending = True 면 오름차순, False 면 내림차순\n",
    "print(summary)"
   ]
  },
  {
   "cell_type": "markdown",
   "metadata": {},
   "source": [
    "데이터 프레임 자료형의 연산"
   ]
  },
  {
   "cell_type": "code",
   "execution_count": 7,
   "metadata": {},
   "outputs": [
    {
     "name": "stdout",
     "output_type": "stream",
     "text": [
      "A    1.0\n",
      "B    6.0\n",
      "C    8.0\n",
      "D    6.0\n",
      "dtype: float64\n"
     ]
    }
   ],
   "source": [
    "array1 = pd.Series([1,2,3], index = ['A','B','C'])\n",
    "array2 = pd.Series([4,5,6], index = ['B','C','D'])\n",
    "\n",
    "array = array1.add(array2, fill_value=0)\n",
    "print(array)"
   ]
  },
  {
   "cell_type": "code",
   "execution_count": 8,
   "metadata": {},
   "outputs": [
    {
     "name": "stdout",
     "output_type": "stream",
     "text": [
      "   0  1\n",
      "A  1  2\n",
      "B  3  4\n",
      "   0  1  2\n",
      "B  1  2  3\n",
      "C  4  5  6\n",
      "D  7  8  9\n",
      "     0    1    2\n",
      "A  1.0  2.0  NaN\n",
      "B  4.0  6.0  3.0\n",
      "C  4.0  5.0  6.0\n",
      "D  7.0  8.0  9.0\n"
     ]
    }
   ],
   "source": [
    "array1 = pd.DataFrame([[1,2],[3,4]], index = ['A','B'])\n",
    "array2 = pd.DataFrame([[1,2,3],[4,5,6],[7,8,9]], index = ['B','C','D'])\n",
    "\n",
    "print(array1)\n",
    "print(array2)\n",
    "array = array1.add(array2, fill_value=0)\n",
    "print(array)"
   ]
  },
  {
   "cell_type": "markdown",
   "metadata": {},
   "source": [
    "데이터 프레임 집계 함수"
   ]
  },
  {
   "cell_type": "code",
   "execution_count": 9,
   "metadata": {},
   "outputs": [
    {
     "name": "stdout",
     "output_type": "stream",
     "text": [
      "     0    1    2\n",
      "A  1.0  2.0  NaN\n",
      "B  4.0  6.0  3.0\n",
      "C  4.0  5.0  6.0\n",
      "D  7.0  8.0  9.0 \n",
      "\n",
      "column 1의 합: 21.0\n",
      "0    16.0\n",
      "1    21.0\n",
      "2    18.0\n",
      "dtype: float64\n"
     ]
    }
   ],
   "source": [
    "array1 = pd.DataFrame([[1,2],[3,4]], index = ['A','B'])\n",
    "array2 = pd.DataFrame([[1,2,3],[4,5,6],[7,8,9]], index = ['B','C','D'])\n",
    "\n",
    "array = array1.add(array2, fill_value=0)\n",
    "print(array,'\\n')\n",
    "print('column 1의 합:', array[1].sum())\n",
    "print(array.sum())"
   ]
  }
 ],
 "metadata": {
  "kernelspec": {
   "display_name": "Python 3",
   "language": "python",
   "name": "python3"
  },
  "language_info": {
   "codemirror_mode": {
    "name": "ipython",
    "version": 3
   },
   "file_extension": ".py",
   "mimetype": "text/x-python",
   "name": "python",
   "nbconvert_exporter": "python",
   "pygments_lexer": "ipython3",
   "version": "3.8.5"
  }
 },
 "nbformat": 4,
 "nbformat_minor": 4
}
