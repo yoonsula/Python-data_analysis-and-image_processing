{
 "cells": [
  {
   "cell_type": "code",
   "execution_count": 1,
   "metadata": {},
   "outputs": [],
   "source": [
    "import pandas as pd\n",
    "import numpy as np"
   ]
  },
  {
   "cell_type": "code",
   "execution_count": 2,
   "metadata": {},
   "outputs": [
    {
     "name": "stdout",
     "output_type": "stream",
     "text": [
      "a     사과\n",
      "b    바나나\n",
      "c     당근\n",
      "dtype: object\n",
      "사과\n"
     ]
    }
   ],
   "source": [
    "array = pd.Series(['사과','바나나','당근'], index=['a','b','c'])\n",
    "print(array)\n",
    "print(array['a'])"
   ]
  },
  {
   "cell_type": "code",
   "execution_count": 3,
   "metadata": {},
   "outputs": [
    {
     "name": "stdout",
     "output_type": "stream",
     "text": [
      "사과\n"
     ]
    }
   ],
   "source": [
    "data = {\n",
    "    'a':'사과',\n",
    "    'b':'바나나',\n",
    "    'c':'당근'\n",
    "}\n",
    "#Dict 자료형을 Series로 비꾸기\n",
    "array = pd.Series(data)\n",
    "print(array['a'])"
   ]
  },
  {
   "cell_type": "code",
   "execution_count": 4,
   "metadata": {},
   "outputs": [
    {
     "name": "stdout",
     "output_type": "stream",
     "text": [
      "       word  frequency\n",
      "Apple    사과          3\n",
      "Banana  바나나          5\n",
      "Carrot   당근          7\n"
     ]
    }
   ],
   "source": [
    "word_dict = {\n",
    "    'Apple':'사과',\n",
    "    'Banana':'바나나',\n",
    "    'Carrot':'당근'\n",
    "}\n",
    "\n",
    "frequency_dict = {\n",
    "    'Apple': 3,\n",
    "    'Banana': 5,\n",
    "    'Carrot': 7\n",
    "}\n",
    "\n",
    "word = pd.Series(word_dict)\n",
    "frequency = pd.Series(frequency_dict)\n",
    "\n",
    "#이름(Name): 값(Values)\n",
    "summary = pd.DataFrame({\n",
    "    'word':word,\n",
    "    'frequency':frequency \n",
    "})\n",
    "\n",
    "print(summary)"
   ]
  },
  {
   "cell_type": "markdown",
   "metadata": {},
   "source": [
    "시리즈의 연산"
   ]
  },
  {
   "cell_type": "code",
   "execution_count": 5,
   "metadata": {},
   "outputs": [
    {
     "name": "stdout",
     "output_type": "stream",
     "text": [
      "     price  number  final_price\n",
      "사과     300       3          900\n",
      "바나나    400       2          800\n",
      "당근     350       3         1050\n",
      "     final_price\n",
      "바나나          800\n",
      "당근          1050\n",
      "     final_price\n",
      "바나나          800\n",
      "당근          1050\n",
      "      price  number  final_price\n",
      "사과      300       5          900\n",
      "바나나     400       2          800\n",
      "당근      350       3         1050\n",
      "블루베리    300       4         1200\n",
      "      price  number  final_price\n",
      "사과      300       5          900\n",
      "바나나     400       2          800\n",
      "당근      350       3         1050\n",
      "블루베리    300       4         1200\n"
     ]
    }
   ],
   "source": [
    "price_dict = {\n",
    "    '사과':300,\n",
    "    '바나나':400,\n",
    "    '당근':350\n",
    "}\n",
    "number_dict = {\n",
    "    '사과':3,\n",
    "    '바나나':2,\n",
    "    '당근':3\n",
    "}\n",
    "\n",
    "price = pd.Series(price_dict)\n",
    "number = pd.Series(number_dict)\n",
    "final = price * number\n",
    "\n",
    "final_price = pd.DataFrame({\n",
    "    'price': price,\n",
    "    'number': number,\n",
    "    'final_price':final\n",
    "    \n",
    "})\n",
    "print(final_price)\n",
    "\n",
    "#이름을 기준으로 슬라이싱\n",
    "print(final_price.loc['바나나':'당근','final_price':])\n",
    "#인덱스를 기준으로 슬라이싱\n",
    "print(final_price.iloc[1:3,2:])\n",
    "\n",
    "final_price.loc['사과','number'] = 5   #데이터 변경\\\n",
    "final_price.loc['블루베리'] = [300,4,300*4]   #새 데이터 삽입\n",
    "\n",
    "print(final_price)\n",
    "\n",
    "final_price.to_csv('fruit_price.csv',encoding='utf-8-sig')\n",
    "saved = pd.read_csv('fruit_price.csv',index_col=0)\n",
    "print(saved)"
   ]
  },
  {
   "cell_type": "markdown",
   "metadata": {},
   "source": [
    "Pandas의 연산과 함수"
   ]
  },
  {
   "cell_type": "markdown",
   "metadata": {},
   "source": [
    "데이터 프레임의 Null 여부 확인"
   ]
  },
  {
   "cell_type": "code",
   "execution_count": 6,
   "metadata": {},
   "outputs": [
    {
     "name": "stdout",
     "output_type": "stream",
     "text": [
      "       word  frequency  importance\n",
      "Apple    사과        3.0           3\n",
      "Banana  바나나        5.0           2\n",
      "Carrot   당근        NaN           1\n",
      "Durian  두리안        2.0           1\n",
      "       word  frequency  importance\n",
      "Banana  바나나        5.0           2\n",
      "Apple    사과        3.0           3\n",
      "Durian  두리안        2.0           1\n",
      "Carrot   당근        NaN           1\n"
     ]
    }
   ],
   "source": [
    "word_dict = {\n",
    "    'Apple':'사과',\n",
    "    'Banana':'바나나',\n",
    "    'Carrot':'당근',\n",
    "    'Durian':'두리안'\n",
    "}\n",
    "\n",
    "frequency_dict = {\n",
    "    'Apple':3,\n",
    "    'Banana':5,\n",
    "    'Carrot':np.nan,\n",
    "    'Durian':2\n",
    "}\n",
    "\n",
    "importance_dict = {\n",
    "    'Apple':3,\n",
    "    'Banana':2,\n",
    "    'Carrot':1,\n",
    "    'Durian':1\n",
    "}\n",
    "\n",
    "word = pd.Series(word_dict)\n",
    "frequency = pd.Series(frequency_dict)\n",
    "importance = pd.Series(importance_dict)\n",
    "\n",
    "summary = pd.DataFrame({\n",
    "    'word':word,\n",
    "    'frequency':frequency,\n",
    "    'importance':importance\n",
    "})\n",
    "\n",
    "print(summary)\n",
    "# print(summary.notnull())\n",
    "# print(summary.isnull())\n",
    "# summary['frequency'] = summary['frequency'].fillna('데이터없음')\n",
    "# print(summary)\n",
    "\n",
    "#데이터 프레임 정렬 함수 \n",
    "summary = summary.sort_values('frequency', ascending=False)\n",
    "#ascending = True 면 오름차순, False 면 내림차순\n",
    "print(summary)"
   ]
  },
  {
   "cell_type": "markdown",
   "metadata": {},
   "source": [
    "데이터 프레임 자료형의 연산"
   ]
  },
  {
   "cell_type": "code",
   "execution_count": 7,
   "metadata": {},
   "outputs": [
    {
     "name": "stdout",
     "output_type": "stream",
     "text": [
      "A    1.0\n",
      "B    6.0\n",
      "C    8.0\n",
      "D    6.0\n",
      "dtype: float64\n"
     ]
    }
   ],
   "source": [
    "array1 = pd.Series([1,2,3], index = ['A','B','C'])\n",
    "array2 = pd.Series([4,5,6], index = ['B','C','D'])\n",
    "\n",
    "array = array1.add(array2, fill_value=0)\n",
    "print(array)"
   ]
  },
  {
   "cell_type": "code",
   "execution_count": 8,
   "metadata": {},
   "outputs": [
    {
     "name": "stdout",
     "output_type": "stream",
     "text": [
      "   0  1\n",
      "A  1  2\n",
      "B  3  4\n",
      "   0  1  2\n",
      "B  1  2  3\n",
      "C  4  5  6\n",
      "D  7  8  9\n",
      "     0    1    2\n",
      "A  1.0  2.0  NaN\n",
      "B  4.0  6.0  3.0\n",
      "C  4.0  5.0  6.0\n",
      "D  7.0  8.0  9.0\n"
     ]
    }
   ],
   "source": [
    "array1 = pd.DataFrame([[1,2],[3,4]], index = ['A','B'])\n",
    "array2 = pd.DataFrame([[1,2,3],[4,5,6],[7,8,9]], index = ['B','C','D'])\n",
    "\n",
    "print(array1)\n",
    "print(array2)\n",
    "array = array1.add(array2, fill_value=0)\n",
    "print(array)"
   ]
  },
  {
   "cell_type": "markdown",
   "metadata": {},
   "source": [
    "데이터 프레임 집계 함수"
   ]
  },
  {
   "cell_type": "code",
   "execution_count": 9,
   "metadata": {},
   "outputs": [
    {
     "name": "stdout",
     "output_type": "stream",
     "text": [
      "     0    1    2\n",
      "A  1.0  2.0  NaN\n",
      "B  4.0  6.0  3.0\n",
      "C  4.0  5.0  6.0\n",
      "D  7.0  8.0  9.0 \n",
      "\n",
      "column 1의 합: 21.0\n",
      "0    16.0\n",
      "1    21.0\n",
      "2    18.0\n",
      "dtype: float64\n"
     ]
    }
   ],
   "source": [
    "array1 = pd.DataFrame([[1,2],[3,4]], index = ['A','B'])\n",
    "array2 = pd.DataFrame([[1,2,3],[4,5,6],[7,8,9]], index = ['B','C','D'])\n",
    "\n",
    "array = array1.add(array2, fill_value=0)\n",
    "print(array,'\\n')\n",
    "print('column 1의 합:', array[1].sum())\n",
    "print(array.sum())"
   ]
  },
  {
   "cell_type": "markdown",
   "metadata": {},
   "source": [
    " "
   ]
  },
  {
   "cell_type": "markdown",
   "metadata": {},
   "source": [
    "Pandas의 활용"
   ]
  },
  {
   "cell_type": "markdown",
   "metadata": {},
   "source": [
    "데이터 프레임의 마스킹"
   ]
  },
  {
   "cell_type": "code",
   "execution_count": 26,
   "metadata": {},
   "outputs": [
    {
     "name": "stdout",
     "output_type": "stream",
     "text": [
      "   A  B\n",
      "0  3  1\n",
      "1  7  3\n",
      "0     True\n",
      "1    False\n",
      "Name: A, dtype: bool\n",
      "   A  B\n",
      "0  3  1\n"
     ]
    }
   ],
   "source": [
    "df = pd.DataFrame(np.random.randint(1,10,(2,2)), index=[0,1], columns=['A','B'])\n",
    "#데이터프레임 출력하기\n",
    "print(df)\n",
    "#컬럼 A의 각 원소가 5보다 작거나 같은지 출력\n",
    "print(df['A']<=5)\n",
    "#컬럼 A의 원소가 5보다 작고, 컬럼 B의 원소가 8보다 작은 행 추출\n",
    "print(df.query(\"A<=5 and B<=8\"))"
   ]
  },
  {
   "cell_type": "markdown",
   "metadata": {},
   "source": [
    "데이터 프레임의 개별 연산"
   ]
  },
  {
   "cell_type": "code",
   "execution_count": 29,
   "metadata": {},
   "outputs": [
    {
     "name": "stdout",
     "output_type": "stream",
     "text": [
      "   A  B  C  D\n",
      "0  1  2  3  4\n",
      "1  1  2  3  4\n",
      "   A  B  C  D\n",
      "0  2  3  4  5\n",
      "1  2  3  4  5\n",
      "   A  B  C  D\n",
      "0  3  4  5  6\n",
      "1  3  4  5  6\n"
     ]
    }
   ],
   "source": [
    "df = pd.DataFrame([[1,2,3,4],[1,2,3,4]],index=[0,1],\n",
    "                  columns=['A','B','C','D'])\n",
    "print(df)\n",
    "\n",
    "df = df.apply(lambda x : x + 1)\n",
    "print(df)\n",
    "\n",
    "def addOne(x):\n",
    "    return x + 1\n",
    "\n",
    "df = df.apply(addOne)\n",
    "print(df)"
   ]
  },
  {
   "cell_type": "code",
   "execution_count": 31,
   "metadata": {},
   "outputs": [
    {
     "name": "stdout",
     "output_type": "stream",
     "text": [
      "        A       B       C       D\n",
      "0   Apple   Apple  Carrot  Banana\n",
      "1  Durian  Banana   Apple  Carrot\n",
      "         A        B        C       D\n",
      "0  Airport  Airport   Carrot  Banana\n",
      "1   Durian   Banana  Airport  Carrot\n"
     ]
    }
   ],
   "source": [
    "df = pd.DataFrame([\n",
    "    ['Apple','Apple','Carrot','Banana'],\n",
    "    ['Durian','Banana','Apple','Carrot']],\n",
    "    index=[0,1], columns=['A','B','C','D'])\n",
    "print(df)\n",
    "df = df.replace({'Apple':'Airport'})\n",
    "print(df)"
   ]
  },
  {
   "cell_type": "markdown",
   "metadata": {},
   "source": [
    "데이터 프레임의 그룹화"
   ]
  },
  {
   "cell_type": "code",
   "execution_count": 32,
   "metadata": {},
   "outputs": [
    {
     "name": "stdout",
     "output_type": "stream",
     "text": [
      "     Name  Frequency   Type\n",
      "0   Apple          7  Fruit\n",
      "1  Banana          3  Fruit\n",
      "2    Beef          5   Meal\n",
      "3  Kimchi          4   Meal\n",
      "       Frequency\n",
      "Type            \n",
      "Fruit         10\n",
      "Meal           9\n"
     ]
    }
   ],
   "source": [
    "df = pd.DataFrame([\n",
    "    ['Apple',7,'Fruit'],\n",
    "    ['Banana',3,'Fruit'],\n",
    "    ['Beef',5,'Meal'],\n",
    "    ['Kimchi',4,'Meal']],\n",
    "    columns=['Name','Frequency','Type'])\n",
    "print(df)\n",
    "print(df.groupby(['Type']).sum())"
   ]
  },
  {
   "cell_type": "code",
   "execution_count": 39,
   "metadata": {},
   "outputs": [
    {
     "name": "stdout",
     "output_type": "stream",
     "text": [
      "     Name  Frequency  importance   Type\n",
      "0   Apple          7           5  Fruit\n",
      "1  Banana          3           6  Fruit\n",
      "2    Beef          5           2   Meal\n",
      "3  Kimchi          4           8   Meal\n",
      "      Frequency             importance            \n",
      "            min max average        min max average\n",
      "Type                                              \n",
      "Fruit         3   7     5.0          5   6     5.5\n",
      "Meal          4   5     4.5          2   8     5.0\n",
      "     Name  Frequency  importance   Type\n",
      "0   Apple          7           5  Fruit\n",
      "1  Banana          3           6  Fruit\n",
      "     Name  Frequency  importance   Type\n",
      "0   Apple          7           5  Fruit\n",
      "1  Banana          3           6  Fruit\n",
      "     Name  Frequency  importance   Type  Gap\n",
      "0   Apple          7           5  Fruit  2.0\n",
      "1  Banana          3           6  Fruit -2.0\n"
     ]
    }
   ],
   "source": [
    "df = pd.DataFrame([\n",
    "    ['Apple',7,5,'Fruit'],\n",
    "    ['Banana',3,6,'Fruit'],\n",
    "    ['Beef',5,2,'Meal'],\n",
    "    ['Kimchi',4,8,'Meal']],\n",
    "    columns=['Name','Frequency','importance','Type'])\n",
    "print(df)\n",
    "print(df.groupby(['Type']).aggregate([min,max,np.average]))\n",
    "# print(df)\n",
    "\n",
    "def my_filter(data):\n",
    "    return data['Frequency'].mean()>=5\n",
    "\n",
    "df = df.groupby('Type').filter(my_filter)\n",
    "print(df)\n",
    "\n",
    "df = df.groupby('Type').get_group('Fruit')\n",
    "print(df)\n",
    "\n",
    "df['Gap'] = df.groupby('Type')['Frequency'].apply(lambda x : x - x.mean())\n",
    "print(df)"
   ]
  },
  {
   "cell_type": "markdown",
   "metadata": {},
   "source": [
    "데이터 프레임의 다중화"
   ]
  },
  {
   "cell_type": "code",
   "execution_count": 44,
   "metadata": {},
   "outputs": [
    {
     "name": "stdout",
     "output_type": "stream",
     "text": [
      "       1회  2회  3회  4회\n",
      "1차 공격   1   5   6   1\n",
      "   수비   1   4   9   6\n",
      "2차 공격   7   2   2   7\n",
      "   수비   3   1   1   1\n",
      "    1회  2회\n",
      "공격   7   2\n",
      "수비   3   1\n"
     ]
    }
   ],
   "source": [
    "df = pd.DataFrame(\n",
    "    np.random.randint(1,10,(4,4)),\n",
    "    index = [['1차','1차','2차','2차'],['공격','수비','공격','수비']],\n",
    "    columns = ['1회','2회','3회','4회'])\n",
    "print(df)\n",
    "print(df[['1회','2회']].loc['2차'])"
   ]
  },
  {
   "cell_type": "markdown",
   "metadata": {},
   "source": [
    "피벗 테이블의 기초"
   ]
  },
  {
   "cell_type": "code",
   "execution_count": 46,
   "metadata": {},
   "outputs": [
    {
     "name": "stdout",
     "output_type": "stream",
     "text": [
      "      Name  Frequency  Importance   Type\n",
      "0    Apple          7           5  Fruit\n",
      "1   Banana          3           6  Fruit\n",
      "2  Coconut          2           6  Fruit\n",
      "3     Rice          8           2   Meal\n",
      "4     Beef          5           2   Meal\n",
      "5   Kimchi          4           8   Meal\n",
      "Type        Fruit  Meal\n",
      "Importance             \n",
      "2             NaN   8.0\n",
      "5             7.0   NaN\n",
      "6             3.0   NaN\n",
      "8             NaN   4.0\n"
     ]
    }
   ],
   "source": [
    "df = pd.DataFrame([\n",
    "    ['Apple',7,5,'Fruit'],\n",
    "    ['Banana',3,6,'Fruit'],\n",
    "    ['Coconut',2,6,'Fruit'],\n",
    "    ['Rice',8,2,'Meal'],\n",
    "    ['Beef',5,2,'Meal'],\n",
    "    ['Kimchi',4,8,'Meal']],\n",
    "    columns=['Name','Frequency','Importance','Type'])\n",
    "print(df)\n",
    "df = df.pivot_table(\n",
    "    index = 'Importance', columns = 'Type', values = 'Frequency',\n",
    "    aggfunc = np.max)\n",
    "print(df)"
   ]
  }
 ],
 "metadata": {
  "kernelspec": {
   "display_name": "Python 3",
   "language": "python",
   "name": "python3"
  },
  "language_info": {
   "codemirror_mode": {
    "name": "ipython",
    "version": 3
   },
   "file_extension": ".py",
   "mimetype": "text/x-python",
   "name": "python",
   "nbconvert_exporter": "python",
   "pygments_lexer": "ipython3",
   "version": "3.8.5"
  }
 },
 "nbformat": 4,
 "nbformat_minor": 4
}
